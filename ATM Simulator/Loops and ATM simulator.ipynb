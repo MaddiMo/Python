{
 "cells": [
  {
   "cell_type": "code",
   "execution_count": 54,
   "metadata": {},
   "outputs": [
    {
     "name": "stdout",
     "output_type": "stream",
     "text": [
      "61.93\n"
     ]
    }
   ],
   "source": [
    "# CORE LEARNING 2\n",
    "# Write a program that allows user to enter two numbers, and operator and then completes the calculation:\n",
    "#   1. Ask the user to pick a number\n",
    "#   2. Ask the user to pick a second number\n",
    "#   3. Ask the user to pick an operator\n",
    "#   4. Create an IF statement to carry out the math operation using the users choice of numbers and choice of operator\n",
    "\n",
    "First_Value=float(input(\"Please pick a number\"))\n",
    "Second_Value=float(input(\"Please pick another number\"))\n",
    "math_operator=input(\"Enter operator\")\n",
    "\n",
    "if math_operator==\"*\":\n",
    "    print (round(float(First_Value*Second_Value),2))\n",
    "elif math_operator==\"/\":\n",
    "    print (round(float(First_Value/Second_Value), 2))\n",
    "elif math_operator==\"+\":\n",
    "    print(round(float(First_Value+Second_Value), 2))\n",
    "elif math_operator==\"**\":\n",
    "    print(round(float(First_Value**Second_Value),2))\n",
    "elif math_operator==\"-\":\n",
    "    print(round(float(First_Value+Second_Value),2))\n",
    "elif math_operator==\"%\":\n",
    "    print(round(float(First_Value%Second_Value),2))\n",
    "elif math_operator==\"<\":\n",
    "    if First_Value<Second_Value:\n",
    "        print(\"Second number is bigger!\")\n",
    "    else:\n",
    "        print(\"First number is bigger\")\n",
    "elif math_operator==\"=\":\n",
    "    if First_Value==Second_Value:\n",
    "        print(\"Numbers are equal\")\n",
    "    else:\n",
    "        print(\"Numbers are not equal\")\n",
    "else:\n",
    "    print(\"Operator not recognised\")    \n",
    "    "
   ]
  },
  {
   "cell_type": "code",
   "execution_count": 81,
   "metadata": {},
   "outputs": [
    {
     "name": "stdout",
     "output_type": "stream",
     "text": [
      "Read the statement please... below 100!\n"
     ]
    }
   ],
   "source": [
    "# CORE LEARNING 2\n",
    "# Write a program that asks a user for their favourite number between 1 and 100\n",
    "#   1. Ask the user to pick a number and store against variable\n",
    "#   2. Create an IF statement which uses logical operators which prints out a \n",
    "#   joke based on the number the user picked\n",
    "\n",
    "Favourite_Number=int(input(\"What is your favourite nunmber between 1 and 100?\"))\n",
    "\n",
    "if Favourite_Number<=5:\n",
    "    print(\"What does a baby computer call its father?\"\"\\n\\n\"\"Data.\")\n",
    "elif Favourite_Number<=20:\n",
    "    print(\"Where do you find a cow with no legs?\"\"\\n\\n\"\"Right where you left it.\")\n",
    "elif Favourite_Number<=50:\n",
    "    print(\"How does a squid go into battle?\"\"\\n\\n\"\"Well-armed.\")\n",
    "elif Favourite_Number<=70:\n",
    "    print(\"Where does the General keep his armies?\"\"\\n\\n\"\"In his sleevies.\")\n",
    "elif Favourite_Number<=100:\n",
    "    print(\"What's the difference between a hippo and a Zippo?\" \"\\n\\n\"\"One is really heavy and the other is a little lighter.\")\n",
    "else: \n",
    "    print(\"Read the statement please... below 100!\")"
   ]
  },
  {
   "cell_type": "code",
   "execution_count": 170,
   "metadata": {},
   "outputs": [
    {
     "name": "stdout",
     "output_type": "stream",
     "text": [
      "Welcome to Northern Frocks:\n",
      "\n",
      " Main Menu: 1- Display balance, 2 - Withdraw funds, 3 - Deposit funds, 9 - Return card\n",
      "1- Enter deposit, 2- Return to Main Menu, 3- Return Card\n",
      "Your new balance is  60\n",
      "Main Menu: 1- Display balance, 2 - Withdraw funds, 3 - Deposit funds, 9 - Return card\n"
     ]
    }
   ],
   "source": [
    "# CORE LEARNING 3 - ATM\n",
    "# Write a program that simulates the behaviour of a basic ATM. Follow the \n",
    "# instructions below:\n",
    "#   1. Print a main menu: \n",
    "#   2. Prompt the user to enter an option:\n",
    "#   3. If ‘1’ is entered, display the current balance and return to main menu.\n",
    "#   4. If ‘2’ is entered, print a sub-menu with withdrawal\n",
    "\n",
    "Main_Menu=\"Main Menu: 1- Display balance, 2 - Withdraw funds, 3 - Deposit funds, 9 - Return card\"\n",
    "Current_balance=30\n",
    "Deposit_menu=\"1- Cash, 2- Check\"\n",
    "\n",
    "print(\"Welcome to Northern Frocks:\"\"\\n\\n\", Main_Menu)\n",
    "Entered_option=int(input(\"Please pick an option of Main Menu:\"))\n",
    "\n",
    "if Entered_option==1:  \n",
    "    print(\"Current balance is\", Current_balance)\n",
    "    print(Main_Menu)\n",
    "elif Entered_option==2:\n",
    "    Submenu=\"1-£10, 2-£20, 3-£40, 4-£60, 5-£80, 6-£100, 7-Other Amount, 8-Return to main menu\"\n",
    "    print(Submenu)\n",
    "    Submenu_option=int(input(\"Please choose a withdrawal option\"))\n",
    "    if Submenu_option==1:\n",
    "        if Current_balance>=10:\n",
    "            print(\"The money has been withdrawn\")\n",
    "            print(\"Your current balance is £\",Current_balance-10)\n",
    "            print(Main_Menu)\n",
    "        else:\n",
    "            print(\"Not sufficient fund\")\n",
    "    elif Submenu_option==2:\n",
    "        if Current_balance>=20:\n",
    "            print(\"The money has been withdrawn\")\n",
    "            print(\"Your current balance is £\",Current_balance-20)\n",
    "            print(Main_Menu)\n",
    "        else:\n",
    "            print(\"Not sufficient fund\")\n",
    "    elif Submenu_option==3:\n",
    "        if Current_balance>=40:\n",
    "            print(\"The money has been withdrawn\")\n",
    "            print(\"Your current balance is £\", Current_balance-40)\n",
    "            print(Main_Menu)\n",
    "        else:\n",
    "            print(\"Not sufficient fund\")\n",
    "    elif Submenu_option==4:\n",
    "        if Current_balance>=60:\n",
    "            print(\"The money has been withdrawn\")\n",
    "            print(\"Your current balance is £\", Current_balance-60)\n",
    "            print(Main_Menu)\n",
    "        else:\n",
    "            print(\"Not sufficient fund\")\n",
    "    elif Submenu_option==5:\n",
    "        if Current_balance>=80:\n",
    "            print(\"The money has been withdrawn\")\n",
    "            print(\"Your current balance is £\",Current_balance-80)\n",
    "            print(Main_Menu)\n",
    "        else:\n",
    "            print(\"Not sufficient fund\")\n",
    "    elif Submenu_option==6:\n",
    "        if Current_balance>=100:\n",
    "            print(\"The money has been withdrawn\")\n",
    "            print(\"Your current balance is £\",Current_balance-100)\n",
    "            print(Main_Menu)\n",
    "        else:\n",
    "            print(\"Not sufficient fund\")\n",
    "            print(Main_Menu)\n",
    "    elif Submenu_option==7:\n",
    "         Integer_value=int(input(\"Please insert an integer value\"))\n",
    "         print(\"The withdrawal has been completed\")\n",
    "         print(\"Your current balance is\", Current_balance-Integer_value)\n",
    "         print(Main_Menu)\n",
    "    else:\n",
    "        print(\"Error\")\n",
    "        print(Main_Menu)            \n",
    "elif Entered_option==3:\n",
    "    Deposit_menu=\"1- Enter deposit, 2- Return to Main Menu, 3- Return Card\"\n",
    "    print(Deposit_menu)\n",
    "    Deposit_menu_option=int(input(\"Please pick an deposit menu option\"))\n",
    "    if Deposit_menu_option==1:\n",
    "        Deposit=int(input(\"Amount of the deposit\"))\n",
    "        print(\"Your new balance is \", Current_balance+Deposit)\n",
    "        print (Main_Menu)\n",
    "    elif Deposit_menu==2:\n",
    "        print (Main_Menu)\n",
    "    elif Deposit_menu==3:\n",
    "        print(\"your card has been returned\")\n",
    "    else:\n",
    "        print(\"Error\")\n",
    "        print(Main_Menu) \n",
    "elif Entered_option==9:\n",
    "    print(\"Goodbye\")\n",
    "    print(\"Exit (break)\")\n",
    "else:\n",
    "    print(\"Error\")\n",
    "    print(Main_Menu)\n",
    "         \n"
   ]
  }
 ],
 "metadata": {
  "kernelspec": {
   "display_name": "Python 3.10.7 64-bit (microsoft store)",
   "language": "python",
   "name": "python3"
  },
  "language_info": {
   "codemirror_mode": {
    "name": "ipython",
    "version": 3
   },
   "file_extension": ".py",
   "mimetype": "text/x-python",
   "name": "python",
   "nbconvert_exporter": "python",
   "pygments_lexer": "ipython3",
   "version": "3.10.7"
  },
  "orig_nbformat": 4,
  "vscode": {
   "interpreter": {
    "hash": "d54e474fe8af1682424e68523640148bae9db887655af3231167f4f184ce9374"
   }
  }
 },
 "nbformat": 4,
 "nbformat_minor": 2
}
