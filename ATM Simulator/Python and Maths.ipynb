{
 "cells": [
  {
   "cell_type": "code",
   "execution_count": 4,
   "metadata": {},
   "outputs": [
    {
     "name": "stdout",
     "output_type": "stream",
     "text": [
      "2000\n",
      "1800.0\n",
      "1620.0\n",
      "1458.0\n",
      "1312.2\n",
      "1180.98\n",
      "1062.882\n"
     ]
    }
   ],
   "source": [
    "#A motorbike costs £2000 and loses 10% of its value every year.\n",
    "\n",
    "#Using a loop, print the value of the bike every following year whilst the value of the bike is\n",
    "#1. Store the value of the bike in a variable\n",
    "#2. Create a while loop which subtracts 10% of the bikes value until the value reaches £1000 \n",
    "\n",
    "motor_value = 2000\n",
    "while (motor_value >= 1000):\n",
    "    print (motor_value)\n",
    "    motor_value = motor_value * 0.90\n",
    "    \n"
   ]
  },
  {
   "cell_type": "code",
   "execution_count": 13,
   "metadata": {},
   "outputs": [
    {
     "name": "stdout",
     "output_type": "stream",
     "text": [
      "Total Number amount of Vowels in this String =  5\n"
     ]
    }
   ],
   "source": [
    "#Write a program that iterates through a word and counts the number of vowel.\n",
    "# 1. Create a variable which enables the user to enter a string\n",
    "# 2. Create variable count_vowel = 0\n",
    "# 3. Iterate through the string using a for loop. This loop will want to look through every letter of the word and\n",
    "#determine how many vowels are within that word.\n",
    "# 4. Print out to console an appropriate message to the uses which informs them of how many values are in the string.\n",
    "\n",
    "str = input(\"Please Enter a word: \")\n",
    "count_vowels = 0\n",
    " \n",
    "for i in str:\n",
    "    if(i == 'a' or i == 'e' or i == 'i' or i == 'o' or i == 'u' or i == 'A'\n",
    "       or i == 'E' or i == 'I' or i == 'O' or i == 'U'):\n",
    "        count_vowels = count_vowels + 1\n",
    " \n",
    "print(\"Total Number amount of Vowels in this String = \", count_vowels)"
   ]
  },
  {
   "cell_type": "code",
   "execution_count": 22,
   "metadata": {},
   "outputs": [
    {
     "name": "stdout",
     "output_type": "stream",
     "text": [
      "The box volume is: 18000\n"
     ]
    }
   ],
   "source": [
    "# Write a program that includes a procedure to multiply 3 numbers together and outputs the result.\n",
    "# 1. In the main body of the program input the lengths of the box: width , depth , and height\n",
    "# 2. Use the procedure to calculate the volume of the box \n",
    "# 3. Modify the procedure to a function to return the volume and output the volume in the main program\n",
    "\n",
    "def box_size (x, y, z):\n",
    "    multiply = x * y * z\n",
    "    return (multiply)\n",
    "    \n",
    "width = int(input(\"input the width: \"))\n",
    "depth = int(input(\"input the depth: \"))\n",
    "height = int(input(\"input the height: \"))\n",
    "print (\"The box volume is:\", box_size(width, depth, height))\n",
    "    "
   ]
  },
  {
   "cell_type": "code",
   "execution_count": 20,
   "metadata": {},
   "outputs": [
    {
     "name": "stdout",
     "output_type": "stream",
     "text": [
      "the third side lenght is: 70\n"
     ]
    }
   ],
   "source": [
    "# Write a program that calculates the lengths of sides of a triangle using Pythagoras’s Theorem.\n",
    "# 1. Print a menu for Pythagoras's calculator\n",
    "# 2. Prompt the user to enter an option and complete the calculation\n",
    "\n",
    "menu:\n",
    "1 - Find the length of a given b and c\n",
    "2 - Find the length of b given a and c\n",
    "3 – Find the length of c given a and b\n",
    "4 - Exit\n",
    "\n",
    "def size (b, c):\n",
    "    a = b + c\n",
    "    return (a)\n",
    "    \n",
    "b = int(input(\"enter the shortest side length: \"))\n",
    "c = int(input(\"enter the the other shortest side length: \"))\n",
    "print(\"the third side lenght is:\", size(b, c))\n",
    "\n",
    "def size (a, c):\n",
    "    b = a - c\n",
    "    return (b)\n",
    "    \n",
    "a = int(input(\"enter the longest side length: \"))\n",
    "c = int(input(\"enter the another side length: \"))\n",
    "print(\"the third side lenght is:\", size(a, c))\n",
    "\n",
    "def size (a, b):\n",
    "    c = a - b\n",
    "    return (b)\n",
    "    \n",
    "a = int(input(\"enter the longest side length: \"))\n",
    "b = int(input(\"enter another side length: \"))\n",
    "print(\"the third side lenght is:\", size(a, b))\n"
   ]
  }
 ],
 "metadata": {
  "kernelspec": {
   "display_name": "Python 3.10.8 64-bit (microsoft store)",
   "language": "python",
   "name": "python3"
  },
  "language_info": {
   "codemirror_mode": {
    "name": "ipython",
    "version": 3
   },
   "file_extension": ".py",
   "mimetype": "text/x-python",
   "name": "python",
   "nbconvert_exporter": "python",
   "pygments_lexer": "ipython3",
   "version": "3.10.8"
  },
  "orig_nbformat": 4,
  "vscode": {
   "interpreter": {
    "hash": "3282607f385ea6f15702157e2a823b97e47a25ad58852c02230532c044fb265d"
   }
  }
 },
 "nbformat": 4,
 "nbformat_minor": 2
}
